{
 "cells": [
  {
   "cell_type": "code",
   "execution_count": 4,
   "metadata": {},
   "outputs": [
    {
     "name": "stdout",
     "output_type": "stream",
     "text": [
      "Enter the length: 34\n",
      "Enter the unit: in\n",
      "34.000000 in = 86.360000 cm\n"
     ]
    }
   ],
   "source": [
    "# Practice 1: Interchange between imperial units and metric units.\n",
    "value = float(input('Enter the length: '))\n",
    "unit = input('Enter the unit: ')\n",
    "if unit == 'in':\n",
    "    print('%f in = %f cm' % (value, value * 2.54))\n",
    "elif unit == 'cm':\n",
    "    print('%f cm = %f in' % (value, value / 2.54))\n",
    "else:\n",
    "    print('Please enter the valid unit')\n",
    "    "
   ]
  },
  {
   "cell_type": "code",
   "execution_count": 5,
   "metadata": {},
   "outputs": [
    {
     "name": "stdout",
     "output_type": "stream",
     "text": [
      "Clean toilet\n"
     ]
    }
   ],
   "source": [
    "# Practice 2: Rolling the dice to decide what to do.\n",
    "from random import randint\n",
    "\n",
    "dise = randint(1,6)  #random.randint(a, b) Return a random integer N such that a <= N <= b.\n",
    "if dise == 1:\n",
    "    result = 'Clean kitchen'\n",
    "elif dise == 2:\n",
    "    result = 'Clean toilet'\n",
    "elif dise == 3:\n",
    "    result = 'Vaccum living room'\n",
    "elif dise == 4:\n",
    "    result = 'Cooking'\n",
    "elif dise == 5:\n",
    "    result = 'Washing'\n",
    "else:\n",
    "    result = 'Gardening'\n",
    "print(result)"
   ]
  },
  {
   "cell_type": "code",
   "execution_count": 6,
   "metadata": {},
   "outputs": [
    {
     "name": "stdout",
     "output_type": "stream",
     "text": [
      "Enter your score: 59\n",
      "You should study harder! You get an E\n"
     ]
    }
   ],
   "source": [
    "# Practice 3: Conversion between percentage score and grade.\n",
    "# 90 points or more --> A\n",
    "# 80~89 points --> B\n",
    "# 70~79 points\t--> C\n",
    "# 60~69 points --> D\n",
    "# 60 points or less --> E\n",
    "\n",
    "score = float(input('Enter your score: '))\n",
    "if score >= 90:\n",
    "    print('Congratulations! You get an A')\n",
    "elif score >= 80:\n",
    "     print('Great! You get a B')\n",
    "elif score >= 70:\n",
    "     print('Good work! You get a C')\n",
    "elif score >= 60:\n",
    "     print('Not bad! You get a D')\n",
    "else:\n",
    "     print('You should study harder! You get an E')"
   ]
  },
  {
   "cell_type": "code",
   "execution_count": 7,
   "metadata": {},
   "outputs": [
    {
     "name": "stdout",
     "output_type": "stream",
     "text": [
      "a= 3\n",
      "b= 4\n",
      "c= 5\n",
      "Perimeter = 12.000000\n",
      "Area = 6.000000\n"
     ]
    }
   ],
   "source": [
    "# Practice 4: Enter the length of the three sides. If can be form a triangle, calculate the perimeter and area.\n",
    "import math \n",
    "a = float(input('a= '))\n",
    "b = float(input('b= '))\n",
    "c = float(input('c= '))\n",
    "\n",
    "if a + b > c and a + c > b and b + c > a:\n",
    "    l = (a + b + c) / 2 \n",
    "    s = math.sqrt(l * (l - a) * (l - b)* (l - c) )\n",
    "    print ('Perimeter = %f' %(l * 2))\n",
    "    print ('Area = %f' %s )\n",
    "else:\n",
    "    print('Can not form a triangle')"
   ]
  },
  {
   "cell_type": "code",
   "execution_count": 8,
   "metadata": {},
   "outputs": [
    {
     "name": "stdout",
     "output_type": "stream",
     "text": [
      "Enter your yearly income:78000\n",
      "If you yearly income is 78000.000000, you can get 61340.000000, and you should pay  16660.000000or tax.\n"
     ]
    }
   ],
   "source": [
    "# Practice 5: Personal income tax calculator\n",
    "'''\n",
    "NZ Tax at a glance--Personal income:\n",
    "33% from $70,000\n",
    "30%: $48,001 to $70,000\n",
    "17.5%: $14,001 to $48,000\n",
    "10.5%: $0 to $14,000\n",
    "\n",
    "'''\n",
    "income = float(input('Enter your yearly income:'))\n",
    "# monthly income\n",
    "# income_month = float(input('Enter your monthly income:'))\n",
    "# income = income_month * 12\n",
    "# hourly income\n",
    "# income_hour = float(input('Enter your hourly income:'))\n",
    "# work_days = int(input('Enter your work day'))\n",
    "# income = income_hour * 8 * work_days\n",
    "\n",
    "if income <= 14000:\n",
    "    tax = income * 0.105\n",
    "    get_money = income - tax    \n",
    "elif income <= 48000:\n",
    "    tax = 14000 * 0.105 + (income-14000) * 0.175\n",
    "    get_money = income - tax\n",
    "elif income <= 70000:\n",
    "    tax = 14000 * 0.105 + (48000-14000) * 0.175 + (income-48000) * 0.3\n",
    "    get_money = income - tax\n",
    "else:\n",
    "    tax = 14000 * 0.105 + (48000-14000) * 0.175 + (70000-48000) * 0.3 + (income-70000) * 0.33\n",
    "    get_money = income - tax\n",
    "    \n",
    "print('If you yearly income is %f, you can get %f, and you should pay % for tax.' %(income, get_money, tax) )\n"
   ]
  },
  {
   "cell_type": "code",
   "execution_count": null,
   "metadata": {},
   "outputs": [],
   "source": []
  }
 ],
 "metadata": {
  "kernelspec": {
   "display_name": "Python 3",
   "language": "python",
   "name": "python3"
  },
  "language_info": {
   "codemirror_mode": {
    "name": "ipython",
    "version": 3
   },
   "file_extension": ".py",
   "mimetype": "text/x-python",
   "name": "python",
   "nbconvert_exporter": "python",
   "pygments_lexer": "ipython3",
   "version": "3.6.8"
  }
 },
 "nbformat": 4,
 "nbformat_minor": 2
}
