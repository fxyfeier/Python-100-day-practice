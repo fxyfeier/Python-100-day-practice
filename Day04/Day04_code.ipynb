{
 "cells": [
  {
   "cell_type": "code",
   "execution_count": 21,
   "metadata": {},
   "outputs": [
    {
     "name": "stdout",
     "output_type": "stream",
     "text": [
      "Enter a number:121\n",
      "121 is not prime number\n"
     ]
    }
   ],
   "source": [
    "# Practice 1: Enter a number to determine if it is a prime number.\n",
    "import math\n",
    "\n",
    "x = int(input('Enter a number:'))\n",
    "end = int(math.sqrt(x))\n",
    "is_prime = True\n",
    "for i in range(2,end + 1):\n",
    "    if x % i == 0:\n",
    "        is_prime = False\n",
    "        break\n",
    "        \n",
    "if is_prime and x != 1:\n",
    "    print('%d is prime number' %x) \n",
    "else:\n",
    "    print('%d is not prime number' %x) \n"
   ]
  },
  {
   "cell_type": "code",
   "execution_count": 22,
   "metadata": {},
   "outputs": [],
   "source": [
    "end = int(math.sqrt(2))"
   ]
  },
  {
   "cell_type": "code",
   "execution_count": 25,
   "metadata": {},
   "outputs": [],
   "source": [
    "for i in range(2,end + 1):\n",
    "    print(i)"
   ]
  },
  {
   "cell_type": "code",
   "execution_count": 27,
   "metadata": {},
   "outputs": [
    {
     "name": "stdout",
     "output_type": "stream",
     "text": [
      "Enter a positive integer: 6\n",
      "Enter a positive integer: 122\n",
      "The greatest common divisor of 6 and 122 is 2\n",
      "The least common multiple of 6 and 122 is 366\n"
     ]
    }
   ],
   "source": [
    "# Practice 2: Enter two positive integers to calculate the greatest common divisor and the least common multiple.\n",
    "\n",
    "a = int(input('Enter a positive integer: '))\n",
    "b = int(input('Enter a positive integer: '))\n",
    "if a > b:\n",
    "    a, b = b, a\n",
    "for factor in range(a, 0, -1):\n",
    "    if a % factor == 0 and b % factor == 0:\n",
    "        print('The greatest common divisor of %d and %d is %d' %(a, b, factor))\n",
    "        print('The least common multiple of %d and %d is %d' %(a, b, (a * b) // factor))\n",
    "        break\n",
    "\n"
   ]
  },
  {
   "cell_type": "code",
   "execution_count": 36,
   "metadata": {},
   "outputs": [
    {
     "name": "stdout",
     "output_type": "stream",
     "text": [
      "Enter the number of row: 4\n",
      "*\n",
      "**\n",
      "***\n",
      "****\n"
     ]
    }
   ],
   "source": [
    "# Practice 3: Print a triangle pattern.\n",
    "row =  int(input('Enter the number of row: '))\n",
    "for i in range(row):\n",
    "    for _ in range(i + 1):\n",
    "        print('*', end = '' )\n",
    "    print()"
   ]
  },
  {
   "cell_type": "code",
   "execution_count": 38,
   "metadata": {},
   "outputs": [
    {
     "name": "stdout",
     "output_type": "stream",
     "text": [
      "Enter the number of row: 4\n",
      "   *\n",
      "  **\n",
      " ***\n",
      "****\n"
     ]
    }
   ],
   "source": [
    "row =  int(input('Enter the number of row: '))\n",
    "for i in range(row):\n",
    "    for j in range(row):\n",
    "        if j < row - i - 1:\n",
    "            print(' ', end = '' )\n",
    "        else:\n",
    "            print('*', end = '' )\n",
    "    print()"
   ]
  },
  {
   "cell_type": "code",
   "execution_count": 39,
   "metadata": {},
   "outputs": [
    {
     "name": "stdout",
     "output_type": "stream",
     "text": [
      "Enter the number of row: 5\n",
      "    *\n",
      "   ***\n",
      "  *****\n",
      " *******\n",
      "*********\n"
     ]
    }
   ],
   "source": [
    "row =  int(input('Enter the number of row: '))\n",
    "for i in range(row):\n",
    "    for _ in range(row - i - 1):\n",
    "        print(' ', end='')\n",
    "    for _ in range(2 * i + 1):\n",
    "        print('*', end='')\n",
    "    print()"
   ]
  },
  {
   "cell_type": "code",
   "execution_count": null,
   "metadata": {},
   "outputs": [],
   "source": []
  }
 ],
 "metadata": {
  "kernelspec": {
   "display_name": "Python 3",
   "language": "python",
   "name": "python3"
  },
  "language_info": {
   "codemirror_mode": {
    "name": "ipython",
    "version": 3
   },
   "file_extension": ".py",
   "mimetype": "text/x-python",
   "name": "python",
   "nbconvert_exporter": "python",
   "pygments_lexer": "ipython3",
   "version": "3.6.8"
  }
 },
 "nbformat": 4,
 "nbformat_minor": 2
}
