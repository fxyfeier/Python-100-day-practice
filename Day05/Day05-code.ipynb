{
 "cells": [
  {
   "cell_type": "code",
   "execution_count": 7,
   "metadata": {},
   "outputs": [
    {
     "name": "stdout",
     "output_type": "stream",
     "text": [
      "153\n",
      "370\n",
      "371\n",
      "407\n"
     ]
    }
   ],
   "source": [
    "'''\n",
    "Practice 1. Find [100~999] all the numbers such that “Sum of cube of digits=Number itself”\n",
    "e.g.: 153 = 1**3 + 5**3 + 3**3\n",
    "'''\n",
    "\n",
    "for number in range(100,1000):\n",
    "    n_1 = number % 10 \n",
    "    n_2 = number // 10 % 10\n",
    "    n_3 = number // 100                           #（'%'- keep remainder， '//' dividable）\n",
    "    if number == n_3 ** 3 + n_2 ** 3 + n_1 ** 3:  #('=' means Assignment)\n",
    "        print(number)"
   ]
  },
  {
   "cell_type": "code",
   "execution_count": 14,
   "metadata": {},
   "outputs": [
    {
     "name": "stdout",
     "output_type": "stream",
     "text": [
      "1\n",
      "6\n",
      "28\n",
      "496\n"
     ]
    }
   ],
   "source": [
    "'''\n",
    "Practice 2. Find the perfect number\n",
    "Find all the perfect Numbers between 1 and 9999. The perfect number is the sum of all the factors except itself,\n",
    "exactly equal to the number itself. For example: 6 = 1 + 2 + 3, 28 = 1 + 2 + 4 + 7 + 14\n",
    "\n",
    "'''\n",
    "import math\n",
    "\n",
    "for number in range(1, 1000):\n",
    "    sum = 0\n",
    "    for factor in range(1, int(math.sqrt(number))+1):\n",
    "        if number % factor == 0:\n",
    "            sum += factor\n",
    "            if factor != 1 and number / factor != factor:\n",
    "                sum += number / factor \n",
    "    if sum == number:\n",
    "                print(number)\n",
    "        \n",
    "    "
   ]
  },
  {
   "cell_type": "code",
   "execution_count": 17,
   "metadata": {},
   "outputs": [
    {
     "name": "stdout",
     "output_type": "stream",
     "text": [
      "rooster: 0, hen: 25, chick: 75\n",
      "rooster: 4, hen: 18, chick: 78\n",
      "rooster: 8, hen: 11, chick: 81\n",
      "rooster: 12, hen: 4, chick: 84\n"
     ]
    }
   ],
   "source": [
    "'''\n",
    "Practice 3. [\" 100 yuan and 100 chickens \"]\n",
    "1 rooster 5 yuan, 1 hen 3 yuan, 3 chicks 1 yuan use, 100 yuan to buy 100 chickens,\n",
    "how many rooster, hen and chicks included \n",
    "'''\n",
    "for rooster in range(0,20):\n",
    "    for hen in range(0,33):\n",
    "        chick = 100 - rooster - hen\n",
    "        if rooster * 5 + hen * 3 + chick * 1/3 == 100:\n",
    "            print('rooster: %d, hen: %d, chick: %d' % (rooster, hen ,chick))"
   ]
  },
  {
   "cell_type": "code",
   "execution_count": 18,
   "metadata": {},
   "outputs": [
    {
     "name": "stdout",
     "output_type": "stream",
     "text": [
      "1 1 2 3 5 8 13 21 34 55 89 144 233 377 610 987 1597 2584 4181 6765 "
     ]
    }
   ],
   "source": [
    "'''\n",
    "Practice 4. Generate [\" Fibonacci sequence \"]\n",
    "Outputs the first 20 Numbers of the Fibonacci sequence\n",
    "1, 1, 2, 3, 5, 8, 13, 21...\n",
    "'''\n",
    "\n",
    "a = 0\n",
    "b = 1\n",
    "for _ in range(20):\n",
    "    (a, b) = (b, (a+b))\n",
    "    print(a, end = ' ')\n"
   ]
  },
  {
   "cell_type": "code",
   "execution_count": 20,
   "metadata": {},
   "outputs": [
    {
     "name": "stdout",
     "output_type": "stream",
     "text": [
      "Your total assets are: 1000\n",
      "Please bet: 10\n",
      "The player shakes out the 6 point\n",
      "The player shakes out the 6 point\n",
      "Player Win!\n",
      "Your total assets are: 1010\n",
      "Please bet: 10\n",
      "The player shakes out the 6 point\n",
      "The player shakes out the 5 point\n",
      "The player shakes out the 8 point\n",
      "The player shakes out the 8 point\n",
      "The player shakes out the 11 point\n",
      "The player shakes out the 7 point\n",
      "Dealer Win!\n",
      "Your total assets are: 1000\n",
      "Please bet: 50\n",
      "The player shakes out the 4 point\n",
      "The player shakes out the 10 point\n",
      "The player shakes out the 5 point\n",
      "The player shakes out the 12 point\n",
      "The player shakes out the 5 point\n",
      "The player shakes out the 4 point\n",
      "Player Win!\n",
      "Your total assets are: 1050\n",
      "Please bet: 5000\n",
      "Please bet: 500\n",
      "The player shakes out the 10 point\n",
      "The player shakes out the 9 point\n",
      "The player shakes out the 4 point\n",
      "The player shakes out the 9 point\n",
      "The player shakes out the 9 point\n",
      "The player shakes out the 8 point\n",
      "The player shakes out the 8 point\n",
      "The player shakes out the 6 point\n",
      "The player shakes out the 7 point\n",
      "Dealer Win!\n",
      "Your total assets are: 550\n",
      "Please bet: 500\n",
      "The player shakes out the 9 point\n",
      "The player shakes out the 7 point\n",
      "Dealer Win!\n",
      "Your total assets are: 50\n",
      "Please bet: 50\n",
      "The player shakes out the 7 point\n",
      "Player Win!\n",
      "Your total assets are: 100\n",
      "Please bet: 100\n",
      "The player shakes out the 8 point\n",
      "The player shakes out the 5 point\n",
      "The player shakes out the 7 point\n",
      "Dealer Win!\n",
      "You are bankrupt, the game is over!\n"
     ]
    }
   ],
   "source": [
    "'''\n",
    "Practice 5. Craps gambling games.\n",
    "Player dice twice,  if the first point is 7 or 11,  player wins.  \n",
    "If shake out 2 , 3 , or 12points the dealer wins, other situations, the game continues. \n",
    "The player shakes the dice again. If shake out 7 points, the dealer wins\n",
    "If the number of point is the same as the first shake, the player wins\n",
    "Otherwise the game continues and the player continues to shake the dice\n",
    "The player has a bet of 1000 yuan when entering the game.\n",
    "The game ends when the player has no money.\n",
    "'''\n",
    "from random import randint\n",
    "\n",
    "money = 1000\n",
    "while money > 0:\n",
    "    print('Your total assets are:', money)\n",
    "    needs_go_on = False\n",
    "    while True:\n",
    "        debt = int(input('Please bet: '))\n",
    "        if debt > 0 and debt <= money:\n",
    "            break\n",
    "    first = randint(1, 6) + randint(1, 6)\n",
    "    print('The player shakes out the %d point' % first)\n",
    "    if first == 7 or first == 11:\n",
    "        print('Player Win!')\n",
    "        money += debt\n",
    "    elif first == 2 or first == 3 or first == 12:\n",
    "        print('Dealer Win!')\n",
    "        money -= debt\n",
    "    else:\n",
    "        needs_go_on = True\n",
    "\n",
    "    while needs_go_on:\n",
    "        current = randint(1, 6) + randint(1, 6)\n",
    "        print('The player shakes out the %d point' % current)\n",
    "        if current == 7:\n",
    "            print('Dealer Win!')\n",
    "            money -= debt\n",
    "            needs_go_on = False\n",
    "        elif current == first:\n",
    "            print('Player Win!')\n",
    "            money += debt\n",
    "            needs_go_on = False\n",
    "\n",
    "print('You are bankrupt, the game is over!')\n",
    "  "
   ]
  },
  {
   "cell_type": "code",
   "execution_count": null,
   "metadata": {},
   "outputs": [],
   "source": []
  }
 ],
 "metadata": {
  "kernelspec": {
   "display_name": "Python 3",
   "language": "python",
   "name": "python3"
  },
  "language_info": {
   "codemirror_mode": {
    "name": "ipython",
    "version": 3
   },
   "file_extension": ".py",
   "mimetype": "text/x-python",
   "name": "python",
   "nbconvert_exporter": "python",
   "pygments_lexer": "ipython3",
   "version": "3.6.8"
  }
 },
 "nbformat": 4,
 "nbformat_minor": 2
}
