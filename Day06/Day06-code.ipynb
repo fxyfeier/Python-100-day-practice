{
 "cells": [
  {
   "cell_type": "code",
   "execution_count": 13,
   "metadata": {},
   "outputs": [
    {
     "name": "stdout",
     "output_type": "stream",
     "text": [
      "x = 6\n",
      "y = 64\n",
      "The greatest common divisor of (6, 64) is 2 \n",
      "The least common multiple of (6, 64) is 192 \n"
     ]
    }
   ],
   "source": [
    "def main():\n",
    "    #Todo: Add your code here\n",
    "    def gcd(x, y):\n",
    "        (x, y) = (y, x) if x > y else (x, y)\n",
    "        for factor in range(x, 0, -1):\n",
    "            if x % factor == 0 and y % factor == 0:\n",
    "                return factor\n",
    "            \n",
    "    \n",
    "    def lcm(x,y):\n",
    "        return x * y // gcd(x, y)\n",
    "    print('The greatest common divisor of (%d, %d) is %d '% (x, y ,gcd(x, y)))\n",
    "    print('The least common multiple of (%d, %d) is %d '% (x, y , lcm(x,y)))\n",
    "    pass\n",
    "\n",
    "if __name__ == '__main__':\n",
    "    x = int(input('x = '))\n",
    "    y = int(input('y = '))\n",
    "    main()"
   ]
  },
  {
   "cell_type": "code",
   "execution_count": 26,
   "metadata": {},
   "outputs": [
    {
     "name": "stdout",
     "output_type": "stream",
     "text": [
      "Enter a positive integer: 6\n",
      "6 is not a palindrome prime \n"
     ]
    }
   ],
   "source": [
    "def is_palindrome(num):\n",
    "    temp = num\n",
    "    total = 0\n",
    "    while temp > 0:\n",
    "        total = total * 10 + temp % 10\n",
    "        temp //= 10\n",
    "    return total == num\n",
    "\n",
    "\n",
    "def is_prime(num):\n",
    "    for factor in range(2, num):\n",
    "        if num % factor == 0:\n",
    "            return False\n",
    "    return True if num != 1 else False\n",
    "\n",
    "\n",
    "\n",
    "if __name__ == '__main__':\n",
    "    num = int(input('Enter a positive integer: '))\n",
    "    if is_palindrome(num) and is_prime(num):\n",
    "        print('%d is a palindrome prime ' % num)\n",
    "    else:\n",
    "        print('%d is not a palindrome prime ' % num)"
   ]
  },
  {
   "cell_type": "code",
   "execution_count": 22,
   "metadata": {},
   "outputs": [
    {
     "data": {
      "text/plain": [
       "True"
      ]
     },
     "execution_count": 22,
     "metadata": {},
     "output_type": "execute_result"
    }
   ],
   "source": [
    "def is_prime(num):\n",
    "    for factor in range(2, num):\n",
    "        if num % factor == 0:\n",
    "            return False\n",
    "    return True if num != 1 else False\n",
    "\n",
    "is_prime(5)"
   ]
  },
  {
   "cell_type": "code",
   "execution_count": null,
   "metadata": {},
   "outputs": [],
   "source": []
  }
 ],
 "metadata": {
  "kernelspec": {
   "display_name": "Python 3",
   "language": "python",
   "name": "python3"
  },
  "language_info": {
   "codemirror_mode": {
    "name": "ipython",
    "version": 3
   },
   "file_extension": ".py",
   "mimetype": "text/x-python",
   "name": "python",
   "nbconvert_exporter": "python",
   "pygments_lexer": "ipython3",
   "version": "3.6.8"
  }
 },
 "nbformat": 4,
 "nbformat_minor": 2
}
